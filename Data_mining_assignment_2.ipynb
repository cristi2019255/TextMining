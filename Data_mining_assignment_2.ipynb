{
  "nbformat": 4,
  "nbformat_minor": 0,
  "metadata": {
    "colab": {
      "name": "Data_mining_assignment_2.ipynb",
      "provenance": [],
      "collapsed_sections": [
        "S8vHp7KYWQ9J",
        "LKvgQaWrHtTQ"
      ],
      "include_colab_link": true
    },
    "interpreter": {
      "hash": "aee8b7b246df8f9039afb4144a1f6fd8d2ca17a180786b69acc140d282b71a49"
    },
    "kernelspec": {
      "display_name": "Python 3.9.7 64-bit",
      "name": "python3"
    },
    "language_info": {
      "codemirror_mode": {
        "name": "ipython",
        "version": 3
      },
      "file_extension": ".py",
      "mimetype": "text/x-python",
      "name": "python",
      "nbconvert_exporter": "python",
      "pygments_lexer": "ipython3",
      "version": "3.9.7"
    }
  },
  "cells": [
    {
      "cell_type": "markdown",
      "metadata": {
        "id": "view-in-github",
        "colab_type": "text"
      },
      "source": [
        "<a href=\"https://colab.research.google.com/github/cristi2019255/TextMining/blob/main/Data_mining_assignment_2.ipynb\" target=\"_parent\"><img src=\"https://colab.research.google.com/assets/colab-badge.svg\" alt=\"Open In Colab\"/></a>"
      ]
    },
    {
      "cell_type": "markdown",
      "source": [
        "# Imports"
      ],
      "metadata": {
        "id": "O955y5BuV7Ry"
      }
    },
    {
      "cell_type": "code",
      "metadata": {
        "colab": {
          "base_uri": "https://localhost:8080/"
        },
        "id": "vVSXm3cDlfFP",
        "outputId": "74c27bf7-8a87-4ca9-bbba-7eb9005ab030"
      },
      "source": [
        "from google.colab import drive\n",
        "drive.mount('/content/drive')"
      ],
      "execution_count": null,
      "outputs": [
        {
          "output_type": "stream",
          "name": "stdout",
          "text": [
            "Mounted at /content/drive\n"
          ]
        }
      ]
    },
    {
      "cell_type": "code",
      "metadata": {
        "id": "bdtkNDgYHtTK"
      },
      "source": [
        "import os\n",
        "import string\n",
        "import re\n",
        "import numpy as np\n",
        "import math\n",
        "import matplotlib.pyplot as plt\n",
        "plt.style.use('seaborn-whitegrid')"
      ],
      "execution_count": null,
      "outputs": []
    },
    {
      "cell_type": "code",
      "metadata": {
        "colab": {
          "base_uri": "https://localhost:8080/"
        },
        "id": "ooZ3imL3HtTL",
        "outputId": "b054745e-3532-4e34-a412-6f542c896272"
      },
      "source": [
        "!{sys.executable} -m pip install nltk sklearn scipy"
      ],
      "execution_count": null,
      "outputs": [
        {
          "output_type": "stream",
          "name": "stdout",
          "text": [
            "/bin/bash: {sys.executable}: command not found\n"
          ]
        }
      ]
    },
    {
      "cell_type": "code",
      "metadata": {
        "id": "CK7UD6r7HtTM"
      },
      "source": [
        "import nltk\n",
        "from nltk.corpus import stopwords\n",
        "from nltk.stem import WordNetLemmatizer\n",
        "from nltk.stem import PorterStemmer\n",
        "from nltk.probability import FreqDist\n",
        "from sklearn.model_selection import KFold, GridSearchCV, cross_val_score, train_test_split\n",
        "from sklearn.feature_extraction.text import CountVectorizer, TfidfVectorizer\n",
        "from nltk.tokenize import RegexpTokenizer\n",
        "from nltk import word_tokenize, pos_tag          \n",
        "from nltk.stem import WordNetLemmatizer \n",
        "from sklearn.metrics import classification_report\n",
        "from scipy import stats\n",
        "\n",
        "\n",
        "nltk.download('punkt')\n",
        "nltk.download('stopwords')\n",
        "nltk.download('wordnet')\n",
        "nltk.download('averaged_perceptron_tagger')\n"
      ],
      "execution_count": null,
      "outputs": []
    },
    {
      "cell_type": "code",
      "metadata": {
        "id": "u4cF_94THtTM"
      },
      "source": [
        "from sklearn.naive_bayes import MultinomialNB\n",
        "from sklearn.linear_model import LogisticRegression\n",
        "from sklearn.tree import DecisionTreeClassifier\n",
        "from sklearn.ensemble import RandomForestClassifier\n",
        "\n",
        "from sklearn.metrics import accuracy_score, f1_score, recall_score, precision_score\n",
        "from sklearn.feature_selection import mutual_info_classif"
      ],
      "execution_count": null,
      "outputs": []
    },
    {
      "cell_type": "markdown",
      "source": [
        "# Utils"
      ],
      "metadata": {
        "id": "jPWplk-kv4Vj"
      }
    },
    {
      "cell_type": "code",
      "metadata": {
        "id": "w2WkFsw3HtTR"
      },
      "source": [
        "def evaluate_pred(Y_test, Y_pred):            \n",
        "    print(\"Number of mislabeled points out of a total %d points : %d\"\n",
        "       % (len(Y_test), (Y_test != Y_pred).sum()))    \n",
        "    print('acc: ', accuracy_score(Y_test, Y_pred))\n",
        "    print('precision: ', precision_score(Y_test,Y_pred))\n",
        "    print('recall: ', recall_score(Y_test,Y_pred))\n",
        "    print('F: ', f1_score(Y_test,Y_pred))\n",
        "    return accuracy_score(Y_test, Y_pred)"
      ],
      "execution_count": null,
      "outputs": []
    },
    {
      "cell_type": "markdown",
      "source": [
        "# Loading Data"
      ],
      "metadata": {
        "id": "fdngbsMpV_ho"
      }
    },
    {
      "cell_type": "code",
      "metadata": {
        "id": "rMpPEUktHtTN"
      },
      "source": [
        "# first load in the reviews into a corpus\n",
        "def get_corpus(data_path):\n",
        "    corpus, Y = [], []    \n",
        "    file_nr = 0\n",
        "    '''reads all thruthful negative reviews, prepares the text, and adds it to the corpus'''    \n",
        "    for review_type in ['deceptive_from_MTurk', 'truthful_from_Web']:              \n",
        "        for fold in ['fold1', 'fold2', 'fold3', 'fold4', 'fold5']:            \n",
        "            for file in os.listdir(os.path.join(data_path, review_type , fold)):\n",
        "                file_path = os.path.join(data_path, review_type, fold, file)\n",
        "                \n",
        "                # open review\n",
        "                with open(file_path, \"r\") as f:\n",
        "                    raw_review = f.read()                  \n",
        "                corpus.append(raw_review)\n",
        "                file_nr +=1\n",
        "                if (file_nr % 100 == 0):\n",
        "                  print(file_nr)                \n",
        "                Y.append(0 if review_type == 'deceptive_from_MTurk' else 1)                                 \n",
        "    return corpus, Y\n",
        "\n",
        "# defining stop words\n",
        "stop_words = set(stopwords.words('english'))\n",
        "\n",
        "# defining lemmatization \n",
        "class LemmaTokenizer(object):\n",
        "    def __init__(self):\n",
        "        self.wnl = WordNetLemmatizer()\n",
        "    def __call__(self, review):\n",
        "        review = review.translate(str.maketrans(\"\",\"\", string.punctuation)) # remove punctuation\n",
        "        review = re.sub(r'\\d+', '', review) # remove numbers\n",
        "        return [self.wnl.lemmatize(token) for token in word_tokenize(review) if token not in stop_words]\n",
        "\n",
        "# defining steamming\n",
        "class SteammingTokenizer(object):\n",
        "    def __init__(self):\n",
        "        self.stemmer = PorterStemmer()        \n",
        "    def __call__(self, review):\n",
        "        review = review.translate(str.maketrans(\"\",\"\", string.punctuation)) # remove punctuation\n",
        "        review = re.sub(r'\\d+', '', review) # remove numbers\n",
        "        return [self.stemmer.stem(token) for token in word_tokenize(review) if token not in stop_words]\n",
        "\n",
        "# defining POS\n",
        "class POSTokenizer(object):\n",
        "    def __init__(self, lemmatizer = False, select = False):         \n",
        "        self.wnl = WordNetLemmatizer() \n",
        "        self.lemmatization = lemmatizer \n",
        "        self.select = select\n",
        "    def __call__(self, review):        \n",
        "        review = review.translate(str.maketrans(\"\",\"\", string.punctuation)) # remove punctuation\n",
        "        review = re.sub(r'\\d+', '', review) # remove numbers\n",
        "        tokens = [token for token in pos_tag(word_tokenize(review)) if token[0] not in stop_words]                                \n",
        "        if self.select:\n",
        "          return [token[0]+\" \"+token[1] for token in tokens if (('NN' in token[1])or('VB' in token[1])) ]\n",
        "        if self.lemmatization:          \n",
        "          tokens = [self.wnl.lemmatize(token[0])+\" \"+token[1] for token in tokens]          \n",
        "        else:\n",
        "          tokens = [token[0]+\" \"+token[1] for token in tokens]\n",
        "        return tokens\n",
        "\n",
        "\n",
        "# getting the words frequences\n",
        "def vectorize(corpus, n_grams = 2, min_df = 0.01, max_df = 0.95, method='lemmatize'):  \n",
        "  dictionary = {\n",
        "      'lemmatize': LemmaTokenizer(),\n",
        "      'stemming':  SteammingTokenizer(),\n",
        "      'pos': POSTokenizer(),\n",
        "      'pos_lemmatize': POSTokenizer(lemmatizer = True),\n",
        "      'pos_select': POSTokenizer(select=True),\n",
        "      'tokenizer': RegexpTokenizer(r'[a-zA-Z]+').tokenize # to remove unwanted elements from out data like symbols and numbers\n",
        "  }  \n",
        "  tokenizer = dictionary[method]\n",
        "\n",
        "  vectorizer = TfidfVectorizer(\n",
        "                               lowercase=True,\n",
        "                               ngram_range = (1,n_grams),                              \n",
        "                               tokenizer = tokenizer, \n",
        "                               min_df = min_df, #remove terms with minimum document frequency as known as removing sparse terms\n",
        "                               max_df= max_df #remove most frequent terms as they might be not interesting\n",
        "                               )\n",
        "  X = vectorizer.fit_transform(corpus).toarray()\n",
        "  feature_names = vectorizer.get_feature_names_out()\n",
        "  return X, feature_names\n",
        "\n",
        "  \n",
        "## running to long need to be imporved\n",
        "def mutual_info_feature_selection(X, Y, feature_names, trashold=0.01, top_k=300, method='top'):    \n",
        "  mutual_info = mutual_info_classif(X, Y, random_state=0)  \n",
        "  print(len(mutual_info))\n",
        "  if method == 'top':      \n",
        "    top_values = list(mutual_info)\n",
        "    top_values.sort()\n",
        "    top_values = top_values[::-1][:top_k] # ordering descending and taking best k\n",
        "    feature_indx = [True if (mutual_info[i] in top_values) else False for i in range(len(mutual_info))]\n",
        "  else:\n",
        "    feature_indx = mutual_info > trashold  \n",
        "  return X[:,feature_indx], feature_indx, mutual_info[feature_indx]\n"
      ],
      "execution_count": null,
      "outputs": []
    },
    {
      "cell_type": "code",
      "metadata": {
        "colab": {
          "base_uri": "https://localhost:8080/"
        },
        "id": "hvsNDhodHtTN",
        "outputId": "85d94c51-64cc-4dfc-f739-43864425d88c"
      },
      "source": [
        "DATA_PATH = \"/content/drive/MyDrive/Data_mining_assignment_2021_2/op_spam_v1.4/negative_polarity\"\n",
        "corpus, Y = get_corpus(DATA_PATH)\n",
        "X, feature_names = vectorize(corpus, method='pos', n_grams=1)\n",
        "print(feature_names)\n",
        "print(len(feature_names))"
      ],
      "execution_count": null,
      "outputs": [
        {
          "output_type": "stream",
          "name": "stdout",
          "text": [
            "100\n",
            "200\n",
            "300\n",
            "400\n",
            "500\n",
            "600\n",
            "700\n",
            "800\n",
            "['able JJ' 'absolutely RB' 'ac NN' ... 'yet RB' 'young JJ' 'youre NN']\n",
            "1351\n"
          ]
        }
      ]
    },
    {
      "cell_type": "code",
      "source": [
        "# Used for testing what preprocess technique is the best\n",
        "naive_bayes = MultinomialNB().fit(X, Y)\n",
        "Y_pred = naive_bayes.predict(X)\n",
        "print(accuracy_score(Y_pred,Y))"
      ],
      "metadata": {
        "id": "f5Az8ISwhu6O",
        "colab": {
          "base_uri": "https://localhost:8080/"
        },
        "outputId": "ff2f6b21-b68f-4a61-d4af-27a58b02c571"
      },
      "execution_count": null,
      "outputs": [
        {
          "output_type": "stream",
          "name": "stdout",
          "text": [
            "0.96125\n"
          ]
        }
      ]
    },
    {
      "cell_type": "markdown",
      "source": [
        "# Feature selection"
      ],
      "metadata": {
        "id": "S8vHp7KYWQ9J"
      }
    },
    {
      "cell_type": "code",
      "metadata": {
        "id": "73X4koy87Uny",
        "colab": {
          "base_uri": "https://localhost:8080/"
        },
        "outputId": "af31d1bc-364d-4c14-db7d-a9d18070447a"
      },
      "source": [
        "X_mutual, feature_indx, info_values = mutual_info_feature_selection(X, Y, feature_names, method='percentage', trashold=0.005)\n",
        "feature_selected = np.array(feature_names)[np.array(feature_indx)]\n",
        "feature_names = np.array(feature_names)[np.array(feature_indx)]\n",
        "print('selected nr of features: ',len(feature_selected))\n",
        "print(feature_selected[:10])\n",
        "X = X_mutual.copy()"
      ],
      "execution_count": null,
      "outputs": [
        {
          "output_type": "stream",
          "name": "stdout",
          "text": [
            "1351\n",
            "selected nr of features:  562\n",
            "['absolutely RB' 'access NN' 'accommodations NNS' 'actual JJ' 'advance NN'\n",
            " 'affinia JJ' 'affinia NN' 'afternoon NN' 'ago IN' 'allowed VBN']\n"
          ]
        }
      ]
    },
    {
      "cell_type": "code",
      "source": [
        "# Used for testing what feature extration technique is the best\n",
        "naive_bayes = MultinomialNB().fit(X_mutual, Y)\n",
        "Y_pred = naive_bayes.predict(X_mutual)\n",
        "print(accuracy_score(Y_pred,Y))"
      ],
      "metadata": {
        "colab": {
          "base_uri": "https://localhost:8080/"
        },
        "id": "MG8lLV2r9AfZ",
        "outputId": "c1494d53-1f61-45b6-b422-e81b446ab245"
      },
      "execution_count": null,
      "outputs": [
        {
          "output_type": "stream",
          "name": "stdout",
          "text": [
            "0.91375\n"
          ]
        }
      ]
    },
    {
      "cell_type": "code",
      "source": [
        "# spliting into train and test: fold5 for test others for training and parameter tuning\n",
        "\n",
        "n = len(X)\n",
        "X_train = np.concatenate((X[:int(n*0.4)],X[int(n*0.5):int(n*0.9)]))\n",
        "X_test = np.concatenate((X[int(n*0.4):int(n*0.5)], X[int(n*0.9):]))\n",
        "Y_train, Y_test = Y[:int(n*0.4)] + Y[int(n*0.5):int(n*0.9)], Y[int(n*0.4):int(n*0.5)] + Y[int(n*0.9):]\n",
        "\n",
        "\n",
        "#X_train, X_test, Y_train, Y_test = train_test_split(X, Y, train_size=0.8,random_state=0)"
      ],
      "metadata": {
        "id": "2qV7WMYJraSi"
      },
      "execution_count": null,
      "outputs": []
    },
    {
      "cell_type": "code",
      "source": [
        "# Used for testing what preprocess technique is the best\n",
        "naive_bayes = MultinomialNB().fit(X_train, Y_train)\n",
        "Y_pred = naive_bayes.predict(X_test)\n",
        "print(accuracy_score(Y_pred,Y_test))"
      ],
      "metadata": {
        "colab": {
          "base_uri": "https://localhost:8080/"
        },
        "id": "VHHvZ1aUs9X3",
        "outputId": "dcae467f-c80c-4b74-8aa2-0eccb84f8890"
      },
      "execution_count": null,
      "outputs": [
        {
          "output_type": "stream",
          "name": "stdout",
          "text": [
            "0.775\n"
          ]
        }
      ]
    },
    {
      "cell_type": "markdown",
      "metadata": {
        "id": "LKvgQaWrHtTQ"
      },
      "source": [
        "# Use Cross-Validation to select the best hyperparameters!"
      ]
    },
    {
      "cell_type": "code",
      "metadata": {
        "id": "hTjjpnkqUTkb"
      },
      "source": [
        "cv = 5\n",
        "\n",
        "def parameter_tunning_naive_baiyes(X, Y):    \n",
        "  #  To do: splitting data into 10 folders for cross validation\n",
        "  '''\n",
        "    Naive Bayes\n",
        "  '''\n",
        "  cv = KFold(5, shuffle=True, random_state=0) \n",
        "  # naive bayes has no parameters to be tunned\n",
        "  naive_bayes = MultinomialNB()\n",
        "  print(f'Cross validation for naive bayes:')\n",
        "  cross_val_scores = cross_val_score(naive_bayes, X, Y, cv=cv, n_jobs=-1)\n",
        "  print(cross_val_scores)\n",
        "  plt.plot(cross_val_scores, marker='o', linestyle=\"None\")\n",
        "\n",
        "def parameter_tunning_logistic_regresion(X, Y):    \n",
        "  '''\n",
        "    Logistic regresion\n",
        "  '''\n",
        "  # performing a Grid Search on lambda to tunne it for logistic regresion\n",
        "  C = [10**x for x in np.arange(5.0,-5.0,-0.1)]  \n",
        "  grid_search_lr = GridSearchCV(\n",
        "                      cv=cv,\n",
        "                      estimator=LogisticRegression( solver='liblinear', \n",
        "                                                    penalty='l1',\n",
        "                                                    random_state=0,                                                    \n",
        "                                                    ),\n",
        "                      param_grid={'C': C },   # C = 1/lambda                   \n",
        "                      n_jobs=-1\n",
        "                    )\n",
        "  grid_result = grid_search_lr.fit(X, Y)\n",
        "  best_lambda = grid_result.best_params_['C']\n",
        "  print(f'best lambda for logistic regresion is: {best_lambda}')\n",
        "  \n",
        "  '''\n",
        "    ploting results\n",
        "  '''\n",
        "  fig, ax = plt.subplots()\n",
        "  ax.set_title('log lambda vs accuracy score for logistic regresion')\n",
        "  ax.set_xlabel('log lambda')\n",
        "  ax.set_ylabel('accuracy score')\n",
        "  ax.errorbar([x for x in np.arange(-5.0,5.0,0.1)], grid_result.cv_results_['mean_test_score'], yerr = grid_result.cv_results_['std_test_score'], fmt='.k', linestyle='None')\n",
        "  return best_lambda\n",
        "\n",
        "def parameter_tunning_random_forest(X, Y):    \n",
        "  '''\n",
        "    Random forest\n",
        "  '''  \n",
        "  # Grid search on Random Forest to tunne n_estimators - number of trees used and max_features\n",
        "  model = RandomForestClassifier()\n",
        "  n_estimators = [x for x in range(10,1000,10)]\n",
        "  max_features = ['sqrt', 'log2']\n",
        "  grid = {'max_features':max_features, 'n_estimators':n_estimators}\n",
        "  grid_search = GridSearchCV(\n",
        "                             estimator= RandomForestClassifier(),\n",
        "                             param_grid=grid, \n",
        "                             n_jobs=-1, \n",
        "                             cv=cv, \n",
        "                             scoring='accuracy',\n",
        "                             error_score=0\n",
        "                             )\n",
        "  grid_result = grid_search.fit(X, Y)\n",
        "\n",
        "  # summarize results for random forest\n",
        "  max_features, n_estimators = grid_result.best_params_['max_features'], grid_result.best_params_['n_estimators']\n",
        "  print(\"Best: %f using %s\" % (grid_result.best_score_, grid_result.best_params_))\n",
        "  means = grid_result.cv_results_['mean_test_score']\n",
        "  stds = grid_result.cv_results_['std_test_score']\n",
        "  params = grid_result.cv_results_['params']\n",
        "  # print(\"MEAN (STD) with: PARAMS\")\n",
        "  # for mean, stdev, param in zip(means, stds, params):\n",
        "  #  print(\"%f (%f) with: %r\" % (mean, stdev, param))\n",
        "  \n",
        "  '''\n",
        "    plotting results\n",
        "  '''\n",
        "  fig, ax1 = plt.subplots()\n",
        "  \n",
        "  ax1.set_title('max_features sqrt')  \n",
        "  ax1.set_xlabel('number of trees')\n",
        "  ax1.set_ylabel('accuracy score')\n",
        "  ax1.errorbar(grid['n_estimators'], grid_result.cv_results_['mean_test_score'][:len(grid['n_estimators'])],yerr = grid_result.cv_results_['std_test_score'][:len(grid['n_estimators'])] ,label= 'with max_features sqrt', fmt='.k', linestyle='None')\n",
        "  \n",
        "  fig, ax2 = plt.subplots()\n",
        "  ax2.set_title('max_features log2')  \n",
        "  ax2.set_xlabel('number of trees')\n",
        "  ax2.set_ylabel('accuracy score')\n",
        "  ax2.errorbar(grid['n_estimators'], grid_result.cv_results_['mean_test_score'][len(grid['n_estimators']):], yerr = grid_result.cv_results_['std_test_score'][len(grid['n_estimators']):], label= 'with max_features log2', fmt='.k', linestyle='None')\n",
        "  return max_features, n_estimators\n",
        "\n",
        "def parameter_tunning_decision_tree(X, Y):      \n",
        "  '''\n",
        "    Decision tree\n",
        "  '''\n",
        "  clf = DecisionTreeClassifier(random_state=0)\n",
        "  path = clf.cost_complexity_pruning_path(X, Y)\n",
        "  ccp_alphas, impurities = path.ccp_alphas, path.impurities\n",
        "  \n",
        "  betas = [math.sqrt(ccp_alphas[i]*ccp_alphas[i+1]) for i in range(len(ccp_alphas)-1)]\n",
        "  param_grid = {'ccp_alpha': betas }\n",
        "  grid_search = GridSearchCV(\n",
        "                             estimator= DecisionTreeClassifier(random_state=0),\n",
        "                             param_grid = param_grid, \n",
        "                             n_jobs=-1, \n",
        "                             cv=cv, \n",
        "                             scoring='accuracy',\n",
        "                             )\n",
        "  grid_result = grid_search.fit(X, Y)\n",
        "  best_alpha = grid_result.best_params_['ccp_alpha']\n",
        "  print(f'best aplha for decision tree cost complexity prunning is: {best_alpha}')\n",
        "  \n",
        "  '''\n",
        "    ploting results\n",
        "  '''\n",
        "  fig, ax1 = plt.subplots()    \n",
        "  ax1.set_title('alpha vs error scores')  \n",
        "  ax1.set_xlabel('alpha parameter')\n",
        "  ax1.set_ylabel('impurities')\n",
        "  ax1.step(ccp_alphas, impurities)\n",
        "\n",
        "  fig, ax2 = plt.subplots() \n",
        "  ax2.set_title('betha vs accuracy scores')\n",
        "  ax2.set_xlabel('betha parameter')\n",
        "  ax2.set_ylabel('accuracy score')  \n",
        "  ax2.errorbar(param_grid['ccp_alpha'], grid_result.cv_results_['mean_test_score'], yerr = grid_result.cv_results_['std_test_score'], fmt='.k', linestyle='None')\n",
        " \n",
        "  \n",
        "  return best_alpha  "
      ],
      "execution_count": null,
      "outputs": []
    },
    {
      "cell_type": "code",
      "metadata": {
        "colab": {
          "base_uri": "https://localhost:8080/",
          "height": 297
        },
        "id": "yLenjylHgpvZ",
        "outputId": "9d0626ae-fb05-49c8-ac6f-9715230d1edd"
      },
      "source": [
        "parameter_tunning_naive_baiyes(X_train, Y_train)"
      ],
      "execution_count": null,
      "outputs": [
        {
          "output_type": "stream",
          "name": "stdout",
          "text": [
            "Cross validation for naive bayes:\n",
            "[0.7890625 0.8203125 0.8203125 0.8515625 0.8203125]\n"
          ]
        },
        {
          "output_type": "display_data",
          "data": {
            "image/png": "[encoded data removed]",
            "text/plain": [
              "<Figure size 432x288 with 1 Axes>"
            ]
          },
          "metadata": {}
        }
      ]
    },
    {
      "cell_type": "code",
      "metadata": {
        "colab": {
          "base_uri": "https://localhost:8080/",
          "height": 308
        },
        "id": "n4Dl7ADvgqeI",
        "outputId": "48a0a057-b447-41a9-d595-653b5a56d684"
      },
      "source": [
        "best_lambda = parameter_tunning_logistic_regresion(X_train, Y_train)\n",
        "# best lambda for logistic regresion is: 39810.71705534986"
      ],
      "execution_count": null,
      "outputs": [
        {
          "output_type": "stream",
          "name": "stdout",
          "text": [
            "best lambda for logistic regresion is: 19952.62314968891\n"
          ]
        },
        {
          "output_type": "display_data",
          "data": {
            "image/png": "[encoded data removed]",
            "text/plain": [
              "<Figure size 432x288 with 1 Axes>"
            ]
          },
          "metadata": {}
        }
      ]
    },
    {
      "cell_type": "code",
      "metadata": {
        "id": "FQJ-Ew4FgqY4"
      },
      "source": [
        "max_features, n_estimators = parameter_tunning_random_forest(X_train, Y_train)\n",
        "# Best: 0.870000 using {'max_features': 'log2', 'n_estimators': 730}"
      ],
      "execution_count": null,
      "outputs": []
    },
    {
      "cell_type": "code",
      "metadata": {
        "id": "B-5xufOMgqKI"
      },
      "source": [
        "alpha = parameter_tunning_decision_tree(X_train, Y_train)\n",
        "# best aplha for decision tree cost complexity prunning is: 0.01516109606759828"
      ],
      "execution_count": null,
      "outputs": []
    },
    {
      "cell_type": "code",
      "metadata": {
        "id": "j50qt-qtgtpA"
      },
      "source": [
        "parameters = {'lambda': best_lambda, 'max_features': max_features, 'n_estimators': n_estimators, 'alpha': alpha}"
      ],
      "execution_count": null,
      "outputs": []
    },
    {
      "cell_type": "code",
      "source": [
        "# getting the most confident features\n",
        "logistic_regression = LogisticRegression(\n",
        "                                          random_state=0,\n",
        "                                          solver='liblinear', \n",
        "                                          penalty='l1',\n",
        "                                          C = parameters['lambda']\n",
        "                                          ).fit(X_train, Y_train)\n",
        "Y_pred = logistic_regression.predict(X_test)\n",
        "print(f'acc: {accuracy_score(Y_pred,Y_test)}')\n",
        "weights = logistic_regression.coef_[0].tolist()\n",
        "features_0 = []\n",
        "features_1 = []\n",
        "for i in range(10):\n",
        "  max = np.max(weights)\n",
        "  min = np.min(weights)\n",
        "  features_0.append(feature_names[weights.index(max)])\n",
        "  features_1.append(feature_names[weights.index(min)])\n",
        "  weights.remove(max)\n",
        "  weights.remove(min)\n",
        "print(features_0, 'top for truthful')\n",
        "print(features_1, 'top for deceptive')\n"
      ],
      "metadata": {
        "id": "Q8B_OYPGOmhN"
      },
      "execution_count": null,
      "outputs": []
    },
    {
      "cell_type": "markdown",
      "source": [
        "# Testing models\n"
      ],
      "metadata": {
        "id": "byVqs_cCgFgR"
      }
    },
    {
      "cell_type": "code",
      "source": [
        "# pretrained params in order to skip cross validation\n",
        "parameters = {\n",
        "              'lambda':39810.71705534986,\n",
        "              'max_features': 'log2', \n",
        "              'n_estimators': 730, \n",
        "              'alpha': 0.01516109606759828\n",
        "              }"
      ],
      "metadata": {
        "id": "RFm1EyHMzVSr"
      },
      "execution_count": null,
      "outputs": []
    },
    {
      "cell_type": "code",
      "source": [
        "naive_bayes = MultinomialNB().fit(X_train, Y_train)\n",
        "\n",
        "logistic_regression = LogisticRegression(\n",
        "                                          random_state=0,\n",
        "                                          solver='liblinear', \n",
        "                                          penalty='l1',\n",
        "                                          C = parameters['lambda']\n",
        "                                          ).fit(X_train, Y_train)\n",
        "\n",
        "decision_tree = DecisionTreeClassifier(\n",
        "                                        random_state=0,\n",
        "                                        ccp_alpha=parameters['alpha']\n",
        "                                        ).fit(X_train,Y_train)\n",
        "\n",
        "random_forest = RandomForestClassifier(\n",
        "                                        max_features=parameters['max_features'],\n",
        "                                        n_estimators = parameters['n_estimators'],\n",
        "                                        random_state=0\n",
        "                                        ).fit(X_train,Y_train)\n",
        "\n",
        "# predicting\n",
        "Y_pred = naive_bayes.predict(X_test)\n",
        "print(f'Naive Bayes')\n",
        "evaluate_pred(Y_test, Y_pred)\n",
        "\n",
        "Y_pred = logistic_regression.predict(X_test)  \n",
        "print(f'Logistic Regression')\n",
        "evaluate_pred(Y_test, Y_pred)\n",
        "\n",
        "Y_pred = decision_tree.predict(X_test)\n",
        "print(f'Decision tree')\n",
        "evaluate_pred(Y_test, Y_pred)\n",
        "\n",
        "Y_pred = random_forest.predict(X_test)\n",
        "print(f'Random Forest')\n",
        "evaluate_pred(Y_test, Y_pred)"
      ],
      "metadata": {
        "colab": {
          "base_uri": "https://localhost:8080/"
        },
        "id": "z2NexmOBgIu_",
        "outputId": "78c071cc-c5aa-4477-ead2-fb7bd062faa2"
      },
      "execution_count": null,
      "outputs": [
        {
          "output_type": "stream",
          "name": "stdout",
          "text": [
            "Naive Bayes\n",
            "Number of mislabeled points out of a total 160 points : 36\n",
            "acc:  0.775\n",
            "precision:  0.7972972972972973\n",
            "recall:  0.7375\n",
            "F:  0.7662337662337663\n",
            "Logistic Regression\n",
            "Number of mislabeled points out of a total 160 points : 45\n",
            "acc:  0.71875\n",
            "precision:  0.7272727272727273\n",
            "recall:  0.7\n",
            "F:  0.7133757961783439\n",
            "Decision tree\n",
            "Number of mislabeled points out of a total 160 points : 50\n",
            "acc:  0.6875\n",
            "precision:  0.6704545454545454\n",
            "recall:  0.7375\n",
            "F:  0.7023809523809523\n",
            "Random Forest\n",
            "Number of mislabeled points out of a total 160 points : 36\n",
            "acc:  0.775\n",
            "precision:  0.782051282051282\n",
            "recall:  0.7625\n",
            "F:  0.7721518987341772\n"
          ]
        },
        {
          "output_type": "execute_result",
          "data": {
            "text/plain": [
              "0.775"
            ]
          },
          "metadata": {},
          "execution_count": 52
        }
      ]
    },
    {
      "cell_type": "markdown",
      "metadata": {
        "id": "GcxcHbuzcJ7d"
      },
      "source": [
        "# Test on fold5 to see final evaluation scores"
      ]
    },
    {
      "cell_type": "code",
      "metadata": {
        "id": "_UZUSnXIHtTQ",
        "colab": {
          "base_uri": "https://localhost:8080/"
        },
        "outputId": "7c0ccb5f-8658-4b40-ec8e-eb5c98bf9585"
      },
      "source": [
        "# Splitting into train and test after fold5\n",
        "'''\n",
        "We need to create 5x2 CV\n",
        "so 5 times 50% split\n",
        "'''\n",
        "res_NB = []\n",
        "res_LR = []\n",
        "res_DT = []\n",
        "res_RF = []\n",
        "for i in range (5):\n",
        "  X_train, X_test, Y_train, Y_test = train_test_split(X, Y, test_size=0.5, shuffle=True)\n",
        "\n",
        "  naive_bayes = MultinomialNB().fit(X_train, Y_train)\n",
        "\n",
        "  logistic_regression = LogisticRegression(\n",
        "                                          random_state=0,\n",
        "                                          solver='liblinear', \n",
        "                                          penalty='l1',\n",
        "                                          C = parameters['lambda']\n",
        "                                          ).fit(X_train, Y_train)\n",
        "\n",
        "  decision_tree = DecisionTreeClassifier(\n",
        "                                        random_state=0,\n",
        "                                        ccp_alpha=parameters['alpha']\n",
        "                                        ).fit(X_train,Y_train)\n",
        "\n",
        "  random_forest = RandomForestClassifier(\n",
        "                                        max_features=parameters['max_features'],\n",
        "                                        n_estimators = parameters['n_estimators'],\n",
        "                                        random_state=0\n",
        "                                        ).fit(X_train,Y_train)\n",
        "\n",
        "  Y_pred = naive_bayes.predict(X_test)\n",
        "  print(f'Naive Bayes')\n",
        "  res_NB.append(evaluate_pred(Y_test, Y_pred))\n",
        "\n",
        "  Y_pred = logistic_regression.predict(X_test)\n",
        "  # print(Y_pred)\n",
        "  print(f'Logistic Regression')\n",
        "  res_LR.append(evaluate_pred(Y_test, Y_pred))\n",
        "\n",
        "  Y_pred = decision_tree.predict(X_test)\n",
        "  print(f'Decision tree')\n",
        "  res_DT.append(evaluate_pred(Y_test, Y_pred))\n",
        "\n",
        "  Y_pred = random_forest.predict(X_test)\n",
        "  print(f'Random Forest')\n",
        "  res_RF.append(evaluate_pred(Y_test, Y_pred))\n",
        "\n",
        "print(res_NB)\n",
        "print(res_LR)\n",
        "print(res_DT)\n",
        "print(res_RF)"
      ],
      "execution_count": null,
      "outputs": [
        {
          "output_type": "stream",
          "name": "stdout",
          "text": [
            "Naive Bayes\n",
            "Number of mislabeled points out of a total 400 points : 70\n",
            "acc:  0.825\n",
            "precision:  0.8369565217391305\n",
            "recall:  0.7938144329896907\n",
            "F:  0.8148148148148148\n",
            "Logistic Regression\n",
            "Number of mislabeled points out of a total 400 points : 79\n",
            "acc:  0.8025\n",
            "precision:  0.7804878048780488\n",
            "recall:  0.8247422680412371\n",
            "F:  0.8020050125313283\n",
            "Decision tree\n",
            "Number of mislabeled points out of a total 400 points : 134\n",
            "acc:  0.665\n",
            "precision:  0.6376146788990825\n",
            "recall:  0.7164948453608248\n",
            "F:  0.674757281553398\n",
            "Random Forest\n",
            "Number of mislabeled points out of a total 400 points : 76\n",
            "acc:  0.81\n",
            "precision:  0.7633928571428571\n",
            "recall:  0.8814432989690721\n",
            "F:  0.818181818181818\n",
            "Naive Bayes\n",
            "Number of mislabeled points out of a total 400 points : 104\n",
            "acc:  0.74\n",
            "precision:  0.921875\n",
            "recall:  0.5566037735849056\n",
            "F:  0.6941176470588236\n",
            "Logistic Regression\n",
            "Number of mislabeled points out of a total 400 points : 83\n",
            "acc:  0.7925\n",
            "precision:  0.837696335078534\n",
            "recall:  0.7547169811320755\n",
            "F:  0.794044665012407\n",
            "Decision tree\n",
            "Number of mislabeled points out of a total 400 points : 125\n",
            "acc:  0.6875\n",
            "precision:  0.6653992395437263\n",
            "recall:  0.8254716981132075\n",
            "F:  0.736842105263158\n",
            "Random Forest\n",
            "Number of mislabeled points out of a total 400 points : 83\n",
            "acc:  0.7925\n",
            "precision:  0.837696335078534\n",
            "recall:  0.7547169811320755\n",
            "F:  0.794044665012407\n",
            "Naive Bayes\n",
            "Number of mislabeled points out of a total 400 points : 80\n",
            "acc:  0.8\n",
            "precision:  0.8903225806451613\n",
            "recall:  0.6865671641791045\n",
            "F:  0.7752808988764045\n",
            "Logistic Regression\n",
            "Number of mislabeled points out of a total 400 points : 92\n",
            "acc:  0.77\n",
            "precision:  0.7632850241545893\n",
            "recall:  0.7860696517412935\n",
            "F:  0.7745098039215685\n",
            "Decision tree\n",
            "Number of mislabeled points out of a total 400 points : 132\n",
            "acc:  0.67\n",
            "precision:  0.6604651162790698\n",
            "recall:  0.7064676616915423\n",
            "F:  0.6826923076923076\n",
            "Random Forest\n",
            "Number of mislabeled points out of a total 400 points : 89\n",
            "acc:  0.7775\n",
            "precision:  0.788659793814433\n",
            "recall:  0.7611940298507462\n",
            "F:  0.7746835443037974\n",
            "Naive Bayes\n",
            "Number of mislabeled points out of a total 400 points : 60\n",
            "acc:  0.85\n",
            "precision:  0.8164251207729468\n",
            "recall:  0.8848167539267016\n",
            "F:  0.8492462311557789\n",
            "Logistic Regression\n",
            "Number of mislabeled points out of a total 400 points : 72\n",
            "acc:  0.82\n",
            "precision:  0.8181818181818182\n",
            "recall:  0.8010471204188482\n",
            "F:  0.8095238095238095\n",
            "Decision tree\n",
            "Number of mislabeled points out of a total 400 points : 125\n",
            "acc:  0.6875\n",
            "precision:  0.6299212598425197\n",
            "recall:  0.837696335078534\n",
            "F:  0.7191011235955056\n",
            "Random Forest\n",
            "Number of mislabeled points out of a total 400 points : 70\n",
            "acc:  0.825\n",
            "precision:  0.7951219512195122\n",
            "recall:  0.8534031413612565\n",
            "F:  0.8232323232323233\n",
            "Naive Bayes\n",
            "Number of mislabeled points out of a total 400 points : 77\n",
            "acc:  0.8075\n",
            "precision:  0.8538011695906432\n",
            "recall:  0.7373737373737373\n",
            "F:  0.7913279132791328\n",
            "Logistic Regression\n",
            "Number of mislabeled points out of a total 400 points : 92\n",
            "acc:  0.77\n",
            "precision:  0.7944444444444444\n",
            "recall:  0.7222222222222222\n",
            "F:  0.7566137566137566\n",
            "Decision tree\n",
            "Number of mislabeled points out of a total 400 points : 128\n",
            "acc:  0.68\n",
            "precision:  0.65625\n",
            "recall:  0.7424242424242424\n",
            "F:  0.6966824644549764\n",
            "Random Forest\n",
            "Number of mislabeled points out of a total 400 points : 77\n",
            "acc:  0.8075\n",
            "precision:  0.8040201005025126\n",
            "recall:  0.8080808080808081\n",
            "F:  0.8060453400503778\n",
            "[0.825, 0.74, 0.8, 0.85, 0.8075]\n",
            "[0.8025, 0.7925, 0.77, 0.82, 0.77]\n",
            "[0.665, 0.6875, 0.67, 0.6875, 0.68]\n",
            "[0.81, 0.7925, 0.7775, 0.825, 0.8075]\n"
          ]
        }
      ]
    },
    {
      "cell_type": "code",
      "source": [
        "print(stats.ttest_rel(res_NB, res_DT).pvalue)\n",
        "print(stats.ttest_rel(res_NB, res_LR).pvalue)\n",
        "print(stats.ttest_rel(res_NB, res_RF).pvalue)\n",
        "print(stats.ttest_rel(res_DT, res_LR).pvalue)\n",
        "print(stats.ttest_rel(res_DT, res_RF).pvalue)\n",
        "print(stats.ttest_rel(res_LR, res_RF).pvalue)"
      ],
      "metadata": {
        "colab": {
          "base_uri": "https://localhost:8080/"
        },
        "id": "2Ke3u_A0qk1E",
        "outputId": "3faa7de2-059a-4856-8bb8-8adaf7d8d179"
      },
      "execution_count": null,
      "outputs": [
        {
          "output_type": "stream",
          "name": "stdout",
          "text": [
            "0.0031293609247162128\n",
            "0.4634470834106993\n",
            "0.8955643662134358\n",
            "0.00026706796810035824\n",
            "9.762560555621551e-05\n",
            "0.15845392703924577\n"
          ]
        }
      ]
    }
  ]
}