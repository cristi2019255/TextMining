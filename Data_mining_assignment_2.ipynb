{
  "nbformat": 4,
  "nbformat_minor": 0,
  "metadata": {
    "colab": {
      "name": "Data_mining_assignment_2.ipynb",
      "provenance": [],
      "collapsed_sections": [],
      "include_colab_link": true
    },
    "interpreter": {
      "hash": "aee8b7b246df8f9039afb4144a1f6fd8d2ca17a180786b69acc140d282b71a49"
    },
    "kernelspec": {
      "display_name": "Python 3.9.7 64-bit",
      "name": "python3"
    },
    "language_info": {
      "codemirror_mode": {
        "name": "ipython",
        "version": 3
      },
      "file_extension": ".py",
      "mimetype": "text/x-python",
      "name": "python",
      "nbconvert_exporter": "python",
      "pygments_lexer": "ipython3",
      "version": "3.9.7"
    }
  },
  "cells": [
    {
      "cell_type": "markdown",
      "metadata": {
        "id": "view-in-github",
        "colab_type": "text"
      },
      "source": [
        "<a href=\"https://colab.research.google.com/github/cristi2019255/TextMining/blob/main/Data_mining_assignment_2.ipynb\" target=\"_parent\"><img src=\"https://colab.research.google.com/assets/colab-badge.svg\" alt=\"Open In Colab\"/></a>"
      ]
    },
    {
      "cell_type": "markdown",
      "source": [
        "# Imports"
      ],
      "metadata": {
        "id": "O955y5BuV7Ry"
      }
    },
    {
      "cell_type": "code",
      "metadata": {
        "colab": {
          "base_uri": "https://localhost:8080/"
        },
        "id": "vVSXm3cDlfFP",
        "outputId": "bbb26644-89bd-4d6c-a67b-6ec79c04f02f"
      },
      "source": [
        "from google.colab import drive\n",
        "drive.mount('/content/drive')"
      ],
      "execution_count": null,
      "outputs": [
        {
          "output_type": "stream",
          "name": "stdout",
          "text": [
            "Mounted at /content/drive\n"
          ]
        }
      ]
    },
    {
      "cell_type": "code",
      "metadata": {
        "id": "bdtkNDgYHtTK"
      },
      "source": [
        "import os\n",
        "import string\n",
        "import re\n",
        "import numpy as np\n",
        "import math\n",
        "import matplotlib.pyplot as plt\n",
        "plt.style.use('seaborn-whitegrid')"
      ],
      "execution_count": null,
      "outputs": []
    },
    {
      "cell_type": "code",
      "metadata": {
        "colab": {
          "base_uri": "https://localhost:8080/"
        },
        "id": "ooZ3imL3HtTL",
        "outputId": "7aba4fb6-3eab-47bd-899a-4e31b5991de1"
      },
      "source": [
        "!{sys.executable} -m pip install nltk sklearn scipy"
      ],
      "execution_count": null,
      "outputs": [
        {
          "output_type": "stream",
          "name": "stdout",
          "text": [
            "/bin/bash: {sys.executable}: command not found\n"
          ]
        }
      ]
    },
    {
      "cell_type": "code",
      "metadata": {
        "colab": {
          "base_uri": "https://localhost:8080/"
        },
        "id": "CK7UD6r7HtTM",
        "outputId": "85adf470-e318-474d-ae65-98861848b832"
      },
      "source": [
        "import nltk\n",
        "from nltk.corpus import stopwords\n",
        "from nltk.stem import WordNetLemmatizer\n",
        "from nltk.stem import PorterStemmer\n",
        "from nltk.probability import FreqDist\n",
        "from sklearn.model_selection import KFold, GridSearchCV, cross_val_score, train_test_split\n",
        "from sklearn.feature_extraction.text import CountVectorizer, TfidfVectorizer\n",
        "from nltk.tokenize import RegexpTokenizer\n",
        "from nltk import word_tokenize, pos_tag          \n",
        "from nltk.stem import WordNetLemmatizer \n",
        "from sklearn.metrics import classification_report\n",
        "from scipy import stats\n",
        "\n",
        "\n",
        "nltk.download('punkt')\n",
        "nltk.download('stopwords')\n",
        "nltk.download('wordnet')\n",
        "nltk.download('averaged_perceptron_tagger')\n"
      ],
      "execution_count": null,
      "outputs": [
        {
          "output_type": "stream",
          "name": "stdout",
          "text": [
            "[nltk_data] Downloading package punkt to /root/nltk_data...\n",
            "[nltk_data]   Package punkt is already up-to-date!\n",
            "[nltk_data] Downloading package stopwords to /root/nltk_data...\n",
            "[nltk_data]   Package stopwords is already up-to-date!\n",
            "[nltk_data] Downloading package wordnet to /root/nltk_data...\n",
            "[nltk_data]   Package wordnet is already up-to-date!\n",
            "[nltk_data] Downloading package averaged_perceptron_tagger to\n",
            "[nltk_data]     /root/nltk_data...\n",
            "[nltk_data]   Unzipping taggers/averaged_perceptron_tagger.zip.\n"
          ]
        },
        {
          "output_type": "execute_result",
          "data": {
            "text/plain": [
              "True"
            ]
          },
          "metadata": {},
          "execution_count": 12
        }
      ]
    },
    {
      "cell_type": "code",
      "metadata": {
        "id": "u4cF_94THtTM"
      },
      "source": [
        "from sklearn.naive_bayes import MultinomialNB\n",
        "from sklearn.linear_model import LogisticRegression\n",
        "from sklearn.tree import DecisionTreeClassifier\n",
        "from sklearn.ensemble import RandomForestClassifier\n",
        "\n",
        "from sklearn.metrics import accuracy_score\n",
        "from sklearn.feature_selection import mutual_info_classif"
      ],
      "execution_count": null,
      "outputs": []
    },
    {
      "cell_type": "markdown",
      "source": [
        "# Utils"
      ],
      "metadata": {
        "id": "jPWplk-kv4Vj"
      }
    },
    {
      "cell_type": "code",
      "metadata": {
        "id": "w2WkFsw3HtTR"
      },
      "source": [
        "def get_precision(true_positive, false_positive):\n",
        "  return true_positive / (true_positive + false_positive)\n",
        "\n",
        "def get_recall(true_positive, false_negative):\n",
        "    return true_positive / (true_positive + false_negative)\n",
        "\n",
        "def get_F_measure(precision, recall):\n",
        "    return (2 * precision * recall) / (precision + recall)\n",
        "\n",
        "def get_perf_measure(Y_test, Y_pred):\n",
        "    true_positive = 0\n",
        "    false_positive = 0\n",
        "    true_negative = 0\n",
        "    false_negative = 0\n",
        "\n",
        "    for i in range(len(Y_pred)):\n",
        "        if Y_test[i]==Y_pred[i]==1:\n",
        "           true_positive += 1\n",
        "        if Y_pred[i]==1 and Y_test[i]!=Y_pred[i]:\n",
        "           false_positive += 1\n",
        "        if Y_test[i]==Y_pred[i]==0:\n",
        "           true_negative += 1\n",
        "        if Y_pred[i]==0 and Y_test[i]!=Y_pred[i]:\n",
        "           false_negative += 1\n",
        "    return true_positive, false_positive, true_negative, false_negative\n",
        "\n",
        "def evaluate_pred(Y_test, Y_pred):\n",
        "    true_positive, false_positive, true_negative, false_negative = get_perf_measure(Y_test, Y_pred)\n",
        "    precision = get_precision(true_positive, false_positive)\n",
        "    recall= get_recall(true_positive, false_negative)\n",
        "    print(\"Number of mislabeled points out of a total %d points : %d\"\n",
        "       % (len(Y_test), (Y_test != Y_pred).sum()))    \n",
        "    print('acc: ', accuracy_score(Y_test, Y_pred))\n",
        "    print('precision: ', precision)\n",
        "    print('recall: ', recall)\n",
        "    print('F: ', get_F_measure(precision, recall))\n",
        "    print()    "
      ],
      "execution_count": null,
      "outputs": []
    },
    {
      "cell_type": "markdown",
      "source": [
        "# Loading Data"
      ],
      "metadata": {
        "id": "fdngbsMpV_ho"
      }
    },
    {
      "cell_type": "code",
      "metadata": {
        "id": "rMpPEUktHtTN"
      },
      "source": [
        "# first load in the reviews into a corpus\n",
        "def get_corpus(data_path):\n",
        "    corpus, Y = [], []    \n",
        "    file_nr = 0\n",
        "    '''reads all thruthful negative reviews, prepares the text, and adds it to the corpus'''    \n",
        "    for review_type in ['deceptive_from_MTurk', 'truthful_from_Web']:              \n",
        "        for fold in ['fold1', 'fold2', 'fold3', 'fold4', 'fold5']:            \n",
        "            for file in os.listdir(os.path.join(data_path, review_type , fold)):\n",
        "                file_path = os.path.join(data_path, review_type, fold, file)\n",
        "                \n",
        "                # open review\n",
        "                with open(file_path, \"r\") as f:\n",
        "                    raw_review = f.read()                  \n",
        "                corpus.append(raw_review)\n",
        "                file_nr +=1\n",
        "                if (file_nr % 100 == 0):\n",
        "                  print(file_nr)                \n",
        "                Y.append(0 if review_type == 'deceptive_from_MTurk' else 1)                                 \n",
        "    return corpus, Y\n",
        "\n",
        "# defining stop words\n",
        "stop_words = set(stopwords.words('english'))\n",
        "\n",
        "# defining lemmatization \n",
        "class LemmaTokenizer(object):\n",
        "    def __init__(self):\n",
        "        self.wnl = WordNetLemmatizer()\n",
        "    def __call__(self, review):\n",
        "        review = review.translate(str.maketrans(\"\",\"\", string.punctuation)) # remove punctuation\n",
        "        review = re.sub(r'\\d+', '', review) # remove numbers\n",
        "        return [self.wnl.lemmatize(token) for token in word_tokenize(review) if token not in stop_words]\n",
        "\n",
        "# defining steamming\n",
        "class SteammingTokenizer(object):\n",
        "    def __init__(self):\n",
        "        self.stemmer = PorterStemmer()        \n",
        "    def __call__(self, review):\n",
        "        review = review.translate(str.maketrans(\"\",\"\", string.punctuation)) # remove punctuation\n",
        "        review = re.sub(r'\\d+', '', review) # remove numbers\n",
        "        return [self.stemmer.stem(token) for token in word_tokenize(review) if token not in stop_words]\n",
        "\n",
        "# defining POS\n",
        "class POSTokenizer(object):\n",
        "    def __init__(self, lemmatizer = False, select = False):         \n",
        "        self.wnl = WordNetLemmatizer() \n",
        "        self.lemmatization = lemmatizer \n",
        "        self.select = select\n",
        "    def __call__(self, review):        \n",
        "        review = review.translate(str.maketrans(\"\",\"\", string.punctuation)) # remove punctuation\n",
        "        review = re.sub(r'\\d+', '', review) # remove numbers\n",
        "        tokens = [token for token in pos_tag(word_tokenize(review)) if token[0] not in stop_words]                                \n",
        "        if self.select:\n",
        "          return [token[0]+\" \"+token[1] for token in tokens if (('NN' in token[1])or('VB' in token[1])) ]\n",
        "        if self.lemmatization:          \n",
        "          tokens = [self.wnl.lemmatize(token[0])+\" \"+token[1] for token in tokens]          \n",
        "        else:\n",
        "          tokens = [token[0]+\" \"+token[1] for token in tokens]\n",
        "        return tokens\n",
        "\n",
        "\n",
        "# getting the words frequences\n",
        "def vectorize(corpus, n_grams = 2, min_df = 0.01, max_df = 0.95, method='lemmatize'):  \n",
        "  dictionary = {\n",
        "      'lemmatize': LemmaTokenizer(),\n",
        "      'stemming':  SteammingTokenizer(),\n",
        "      'pos': POSTokenizer(),\n",
        "      'pos_lemmatize': POSTokenizer(lemmatizer = True),\n",
        "      'pos_select': POSTokenizer(select=True),\n",
        "      'tokenizer': RegexpTokenizer(r'[a-zA-Z]+').tokenize # to remove unwanted elements from out data like symbols and numbers\n",
        "  }  \n",
        "  tokenizer = dictionary[method]\n",
        "\n",
        "  vectorizer = TfidfVectorizer(\n",
        "                               lowercase=True,\n",
        "                               ngram_range = (1,n_grams),                              \n",
        "                               tokenizer = tokenizer, \n",
        "                               min_df = min_df, #remove terms with minimum document frequency as known as removing sparse terms\n",
        "                               max_df= max_df #remove most frequent terms as they might be not interesting\n",
        "                               )\n",
        "  X = vectorizer.fit_transform(corpus).toarray()\n",
        "  feature_names = vectorizer.get_feature_names_out()\n",
        "  return X, feature_names\n",
        "\n",
        "  \n",
        "## running to long need to be imporved\n",
        "def mutual_info_feature_selection(X, Y, feature_names, trashold=0.01, top_k=300, method='top'):    \n",
        "  mutual_info = mutual_info_classif(X, Y, random_state=0)  \n",
        "  print(len(mutual_info))\n",
        "  if method == 'top':      \n",
        "    top_values = list(mutual_info)\n",
        "    top_values.sort()\n",
        "    top_values = top_values[::-1][:top_k] # ordering descending and taking best k\n",
        "    feature_indx = [True if (mutual_info[i] in top_values) else False for i in range(len(mutual_info))]\n",
        "  else:\n",
        "    feature_indx = mutual_info > trashold  \n",
        "  return X[:,feature_indx], feature_indx, mutual_info[feature_indx]\n"
      ],
      "execution_count": null,
      "outputs": []
    },
    {
      "cell_type": "code",
      "metadata": {
        "colab": {
          "base_uri": "https://localhost:8080/"
        },
        "id": "hvsNDhodHtTN",
        "outputId": "8db5e638-7d07-4146-f197-00bae4dda4a8"
      },
      "source": [
        "DATA_PATH = \"/content/drive/MyDrive/Data_mining_assignment_2021_2/op_spam_v1.4/negative_polarity\"\n",
        "corpus, Y = get_corpus(DATA_PATH)\n",
        "X, feature_names = vectorize(corpus, method='pos', n_grams=2)\n",
        "print(feature_names)\n",
        "print(len(feature_names))"
      ],
      "execution_count": null,
      "outputs": [
        {
          "output_type": "stream",
          "name": "stdout",
          "text": [
            "100\n",
            "200\n",
            "300\n",
            "400\n",
            "500\n",
            "600\n",
            "700\n",
            "800\n",
            "['able JJ' 'able JJ get VB' 'absolutely RB' ... 'yet RB' 'young JJ'\n",
            " 'youre NN']\n",
            "1683\n"
          ]
        }
      ]
    },
    {
      "cell_type": "code",
      "source": [
        "# Used for testing what preprocess technique is the best\n",
        "naive_bayes = MultinomialNB().fit(X, Y)\n",
        "Y_pred = naive_bayes.predict(X)\n",
        "print(accuracy_score(Y_pred,Y))"
      ],
      "metadata": {
        "colab": {
          "base_uri": "https://localhost:8080/"
        },
        "id": "f5Az8ISwhu6O",
        "outputId": "515f9cdc-af1a-46f5-e7f1-c332656bcc1f"
      },
      "execution_count": null,
      "outputs": [
        {
          "output_type": "stream",
          "name": "stdout",
          "text": [
            "0.96875\n"
          ]
        }
      ]
    },
    {
      "cell_type": "markdown",
      "source": [
        "# Feature selection"
      ],
      "metadata": {
        "id": "S8vHp7KYWQ9J"
      }
    },
    {
      "cell_type": "code",
      "metadata": {
        "id": "73X4koy87Uny",
        "colab": {
          "base_uri": "https://localhost:8080/"
        },
        "outputId": "2dd026ec-5563-402b-a7ec-1e80b7e5f343"
      },
      "source": [
        "X_mutual, feature_indx, info_values = mutual_info_feature_selection(X, Y, feature_names, method='percentage', trashold=0.005)\n",
        "feature_selected = np.array(feature_names)[np.array(feature_indx)]\n",
        "print('selected nr of features: ',len(feature_selected))\n",
        "print(feature_selected[:10])\n",
        "X = X_mutual.copy()"
      ],
      "execution_count": null,
      "outputs": [
        {
          "output_type": "stream",
          "name": "stdout",
          "text": [
            "1683\n",
            "selected nr of features:  701\n",
            "['able JJ get VB' 'absolutely RB' 'ac NN' 'accommodations NNS'\n",
            " 'account NN' 'acted VBD' 'actually RB' 'add VB' 'additional JJ'\n",
            " 'additionally RB']\n"
          ]
        }
      ]
    },
    {
      "cell_type": "code",
      "source": [
        "# Used for testing what feature extration technique is the best\n",
        "naive_bayes = MultinomialNB().fit(X_mutual, Y)\n",
        "Y_pred = naive_bayes.predict(X_mutual)\n",
        "print(accuracy_score(Y_pred,Y))"
      ],
      "metadata": {
        "colab": {
          "base_uri": "https://localhost:8080/"
        },
        "id": "MG8lLV2r9AfZ",
        "outputId": "bb1db39c-c604-4cc0-ad37-200a68284313"
      },
      "execution_count": null,
      "outputs": [
        {
          "output_type": "stream",
          "name": "stdout",
          "text": [
            "0.92\n"
          ]
        }
      ]
    },
    {
      "cell_type": "markdown",
      "metadata": {
        "id": "LKvgQaWrHtTQ"
      },
      "source": [
        "## Use Cross-Validation to select the best hyperparameters!"
      ]
    },
    {
      "cell_type": "code",
      "metadata": {
        "id": "hTjjpnkqUTkb"
      },
      "source": [
        "cv = 5\n",
        "\n",
        "def parameter_tunning_naive_baiyes(X, Y):    \n",
        "  #  To do: splitting data into 10 folders for cross validation\n",
        "  '''\n",
        "    Naive Bayes\n",
        "  '''\n",
        "  cv = KFold(5, shuffle=True, random_state=0) \n",
        "  # naive bayes has no parameters to be tunned\n",
        "  naive_bayes = MultinomialNB()\n",
        "  print(f'Cross validation for naive bayes:')\n",
        "  cross_val_scores = cross_val_score(naive_bayes, X, Y, cv=cv, n_jobs=-1)\n",
        "  print(cross_val_scores)\n",
        "  plt.plot(cross_val_scores, marker='o', linestyle=\"None\")\n",
        "\n",
        "def parameter_tunning_logistic_regresion(X, Y):    \n",
        "  '''\n",
        "    Logistic regresion\n",
        "  '''\n",
        "  # performing a Grid Search on lambda to tunne it for logistic regresion\n",
        "  C = [10**x for x in np.arange(5.0,-5.0,-0.1)]  \n",
        "  grid_search_lr = GridSearchCV(\n",
        "                      cv=cv,\n",
        "                      estimator=LogisticRegression( solver='liblinear', \n",
        "                                                    penalty='l1',\n",
        "                                                    random_state=0,                                                    \n",
        "                                                    ),\n",
        "                      param_grid={'C': C },   # C = 1/lambda                   \n",
        "                      n_jobs=-1\n",
        "                    )\n",
        "  grid_result = grid_search_lr.fit(X, Y)\n",
        "  best_lambda = grid_result.best_params_['C']\n",
        "  print(f'best lambda for logistic regresion is: {best_lambda}')\n",
        "  \n",
        "  '''\n",
        "    ploting results\n",
        "  '''\n",
        "  fig, ax = plt.subplots()\n",
        "  ax.set_title('log lambda vs accuracy score for logistic regresion')\n",
        "  ax.set_xlabel('log lambda')\n",
        "  ax.set_ylabel('accuracy score')\n",
        "  ax.errorbar([x for x in np.arange(-5.0,5.0,0.1)], grid_result.cv_results_['mean_test_score'], yerr = grid_result.cv_results_['std_test_score'], fmt='.k', linestyle='None')\n",
        "  return best_lambda\n",
        "\n",
        "def parameter_tunning_random_forest(X, Y):    \n",
        "  '''\n",
        "    Random forest\n",
        "  '''  \n",
        "  # Grid search on Random Forest to tunne n_estimators - number of trees used and max_features\n",
        "  model = RandomForestClassifier()\n",
        "  n_estimators = [x for x in range(10,1000,10)]\n",
        "  max_features = ['sqrt', 'log2']\n",
        "  grid = {'max_features':max_features, 'n_estimators':n_estimators}\n",
        "  grid_search = GridSearchCV(\n",
        "                             estimator= RandomForestClassifier(),\n",
        "                             param_grid=grid, \n",
        "                             n_jobs=-1, \n",
        "                             cv=cv, \n",
        "                             scoring='accuracy',\n",
        "                             error_score=0\n",
        "                             )\n",
        "  grid_result = grid_search.fit(X, Y)\n",
        "\n",
        "  # summarize results for random forest\n",
        "  max_features, n_estimators = grid_result.best_params_['max_features'], grid_result.best_params_['n_estimators']\n",
        "  print(\"Best: %f using %s\" % (grid_result.best_score_, grid_result.best_params_))\n",
        "  means = grid_result.cv_results_['mean_test_score']\n",
        "  stds = grid_result.cv_results_['std_test_score']\n",
        "  params = grid_result.cv_results_['params']\n",
        "  # print(\"MEAN (STD) with: PARAMS\")\n",
        "  # for mean, stdev, param in zip(means, stds, params):\n",
        "  #  print(\"%f (%f) with: %r\" % (mean, stdev, param))\n",
        "  \n",
        "  '''\n",
        "    plotting results\n",
        "  '''\n",
        "  fig, ax1 = plt.subplots()\n",
        "  \n",
        "  ax1.set_title('max_features sqrt')  \n",
        "  ax1.set_xlabel('number of trees')\n",
        "  ax1.set_ylabel('accuracy score')\n",
        "  ax1.errorbar(grid['n_estimators'], grid_result.cv_results_['mean_test_score'][:len(grid['n_estimators'])],yerr = grid_result.cv_results_['std_test_score'][:len(grid['n_estimators'])] ,label= 'with max_features sqrt', fmt='.k', linestyle='None')\n",
        "  \n",
        "  fig, ax2 = plt.subplots()\n",
        "  ax2.set_title('max_features log2')  \n",
        "  ax2.set_xlabel('number of trees')\n",
        "  ax2.set_ylabel('accuracy score')\n",
        "  ax2.errorbar(grid['n_estimators'], grid_result.cv_results_['mean_test_score'][len(grid['n_estimators']):], yerr = grid_result.cv_results_['std_test_score'][len(grid['n_estimators']):], label= 'with max_features log2', fmt='.k', linestyle='None')\n",
        "  return max_features, n_estimators\n",
        "\n",
        "def parameter_tunning_decision_tree(X, Y):      \n",
        "  '''\n",
        "    Decision tree\n",
        "  '''\n",
        "  clf = DecisionTreeClassifier(random_state=0)\n",
        "  path = clf.cost_complexity_pruning_path(X, Y)\n",
        "  ccp_alphas, impurities = path.ccp_alphas, path.impurities\n",
        "  \n",
        "  betas = [math.sqrt(ccp_alphas[i]*ccp_alphas[i+1]) for i in range(len(ccp_alphas)-1)]\n",
        "  param_grid = {'ccp_alpha': betas }\n",
        "  grid_search = GridSearchCV(\n",
        "                             estimator= DecisionTreeClassifier(random_state=0),\n",
        "                             param_grid = param_grid, \n",
        "                             n_jobs=-1, \n",
        "                             cv=cv, \n",
        "                             scoring='accuracy',\n",
        "                             )\n",
        "  grid_result = grid_search.fit(X, Y)\n",
        "  best_alpha = grid_result.best_params_['ccp_alpha']\n",
        "  print(f'best aplha for decision tree cost complexity prunning is: {best_alpha}')\n",
        "  \n",
        "  '''\n",
        "    ploting results\n",
        "  '''\n",
        "  fig, ax1 = plt.subplots()    \n",
        "  ax1.set_title('alpha vs error scores')  \n",
        "  ax1.set_xlabel('alpha parameter')\n",
        "  ax1.set_ylabel('impurities')\n",
        "  ax1.step(ccp_alphas, impurities)\n",
        "\n",
        "  fig, ax2 = plt.subplots() \n",
        "  ax2.set_title('betha vs accuracy scores')\n",
        "  ax2.set_xlabel('betha parameter')\n",
        "  ax2.set_ylabel('accuracy score')  \n",
        "  ax2.errorbar(param_grid['ccp_alpha'], grid_result.cv_results_['mean_test_score'], yerr = grid_result.cv_results_['std_test_score'], fmt='.k', linestyle='None')\n",
        " \n",
        "  \n",
        "  return best_alpha  "
      ],
      "execution_count": null,
      "outputs": []
    },
    {
      "cell_type": "code",
      "metadata": {
        "colab": {
          "base_uri": "https://localhost:8080/",
          "height": 297
        },
        "id": "yLenjylHgpvZ",
        "outputId": "b2090edd-6615-4e7e-be4e-85b8d5fcccf2"
      },
      "source": [
        "parameter_tunning_naive_baiyes(X, Y)"
      ],
      "execution_count": null,
      "outputs": [
        {
          "output_type": "stream",
          "name": "stdout",
          "text": [
            "Cross validation for naive bayes:\n",
            "[0.83125 0.85    0.8625  0.84375 0.8375 ]\n"
          ]
        },
        {
          "output_type": "display_data",
          "data": {
            "image/png": "[encoded data removed]",
            "text/plain": [
              "<Figure size 432x288 with 1 Axes>"
            ]
          },
          "metadata": {
            "needs_background": "light"
          }
        }
      ]
    },
    {
      "cell_type": "code",
      "source": [
        "x = [0.83125,0.85,0.8625, 0.84375, 0.8375 ]\n",
        "sum(x)/len(x)"
      ],
      "metadata": {
        "colab": {
          "base_uri": "https://localhost:8080/"
        },
        "id": "PgPK57QDQPfH",
        "outputId": "4ebfb657-93d6-414c-b449-31c5e28c1d93"
      },
      "execution_count": null,
      "outputs": [
        {
          "output_type": "execute_result",
          "data": {
            "text/plain": [
              "0.8450000000000001"
            ]
          },
          "metadata": {},
          "execution_count": 251
        }
      ]
    },
    {
      "cell_type": "code",
      "metadata": {
        "colab": {
          "base_uri": "https://localhost:8080/",
          "height": 308
        },
        "id": "n4Dl7ADvgqeI",
        "outputId": "572d8180-6ddc-4e2d-fe39-61ecb8da15b0"
      },
      "source": [
        "best_lambda = parameter_tunning_logistic_regresion(X, Y)\n",
        "# best lambda for logistic regresion is: 5.011872336272899"
      ],
      "execution_count": null,
      "outputs": [
        {
          "output_type": "stream",
          "name": "stdout",
          "text": [
            "best lambda for logistic regresion is: 5.011872336272899\n"
          ]
        },
        {
          "output_type": "display_data",
          "data": {
            "image/png": "[encoded data removed]",
            "text/plain": [
              "<Figure size 432x288 with 1 Axes>"
            ]
          },
          "metadata": {
            "needs_background": "light"
          }
        }
      ]
    },
    {
      "cell_type": "code",
      "metadata": {
        "id": "FQJ-Ew4FgqY4",
        "colab": {
          "base_uri": "https://localhost:8080/",
          "height": 582
        },
        "outputId": "0a9ce2dd-64a8-4465-874a-44cf099c996a"
      },
      "source": [
        "max_features, n_estimators = parameter_tunning_random_forest(X, Y)\n",
        "# Best: 0.870000 using {'max_features': 'log2', 'n_estimators': 380}"
      ],
      "execution_count": null,
      "outputs": [
        {
          "output_type": "stream",
          "name": "stdout",
          "text": [
            "Best: 0.840000 using {'max_features': 'log2', 'n_estimators': 380}\n"
          ]
        },
        {
          "output_type": "display_data",
          "data": {
            "image/png": "[encoded data removed]",
            "text/plain": [
              "<Figure size 432x288 with 1 Axes>"
            ]
          },
          "metadata": {
            "needs_background": "light"
          }
        },
        {
          "output_type": "display_data",
          "data": {
            "image/png": "[encoded data removed]",
            "text/plain": [
              "<Figure size 432x288 with 1 Axes>"
            ]
          },
          "metadata": {
            "needs_background": "light"
          }
        }
      ]
    },
    {
      "cell_type": "code",
      "metadata": {
        "colab": {
          "base_uri": "https://localhost:8080/",
          "height": 582
        },
        "id": "B-5xufOMgqKI",
        "outputId": "c4f7dabf-dfbc-4126-b4d0-adeff22401d5"
      },
      "source": [
        "alpha = parameter_tunning_decision_tree(X, Y)\n",
        "# best aplha for decision tree cost complexity prunning is: 0.006183836510828345"
      ],
      "execution_count": null,
      "outputs": [
        {
          "output_type": "stream",
          "name": "stdout",
          "text": [
            "best aplha for decision tree cost complexity prunning is: 0.006183836510828345\n"
          ]
        },
        {
          "output_type": "display_data",
          "data": {
            "image/png": "[encoded data removed]",
            "text/plain": [
              "<Figure size 432x288 with 1 Axes>"
            ]
          },
          "metadata": {
            "needs_background": "light"
          }
        },
        {
          "output_type": "display_data",
          "data": {
            "image/png": "[encoded data removed]",
            "text/plain": [
              "<Figure size 432x288 with 1 Axes>"
            ]
          },
          "metadata": {
            "needs_background": "light"
          }
        }
      ]
    },
    {
      "cell_type": "code",
      "metadata": {
        "id": "j50qt-qtgtpA"
      },
      "source": [
        "parameters = {'lambda': best_lambda, 'max_features': max_features, 'n_estimators': n_estimators, 'alpha': alpha}"
      ],
      "execution_count": null,
      "outputs": []
    },
    {
      "cell_type": "code",
      "source": [
        "# pretrained params in order to skip cross validation\n",
        "parameters = {\n",
        "              'lambda':.011872336272899,\n",
        "              'max_features': 'log2', \n",
        "              'n_estimators': 380, \n",
        "              'alpha': 0.006183836510828345\n",
        "              }"
      ],
      "metadata": {
        "id": "IS5vOizIfsFP"
      },
      "execution_count": null,
      "outputs": []
    },
    {
      "cell_type": "code",
      "source": [
        "# getting the most confident features\n",
        "logistic_regression = LogisticRegression(\n",
        "                                          random_state=0,\n",
        "                                          solver='liblinear', \n",
        "                                          penalty='l1',\n",
        "                                          C = parameters['lambda']\n",
        "                                          ).fit(X, Y)\n",
        "Y_pred = logistic_regression.predict(X)\n",
        "print(f'acc: {accuracy_score(Y_pred,Y)}')\n",
        "weights = logistic_regression.coef_[0].tolist()\n",
        "features_0 = []\n",
        "features_1 = []\n",
        "for i in range(10):\n",
        "  max = np.max(weights)\n",
        "  min = np.min(weights)\n",
        "  features_0.append(feature_names[weights.index(max)])\n",
        "  features_1.append(feature_names[weights.index(min)])\n",
        "  weights.remove(max)\n",
        "  weights.remove(min)\n",
        "print(features_0, 'top for truthful')\n",
        "print(features_1, 'top for deceptive')\n"
      ],
      "metadata": {
        "colab": {
          "base_uri": "https://localhost:8080/"
        },
        "id": "Q8B_OYPGOmhN",
        "outputId": "29ed0289-a033-409e-85ee-68be34175f4f"
      },
      "execution_count": null,
      "outputs": [
        {
          "output_type": "stream",
          "name": "stdout",
          "text": [
            "acc: 0.99125\n",
            "['star NN', 'located VBN', 'booked VBD hotel NN', 'quickly RB', 'old JJ hotel NN', 'either RB', 'either DT', 'made VBD', 'close JJ', 'concierge NN'] top for truthful\n",
            "['chicago NN', 'luxurious JJ', 'received VBN', 'second JJ night NN', 'sleeper NN', 'chicago VB', 'michigan NNS', 'felt VBD like IN', 'wanting VBG', 'recommend VB'] top for deceptive\n"
          ]
        }
      ]
    },
    {
      "cell_type": "markdown",
      "source": [
        "# Testing models\n"
      ],
      "metadata": {
        "id": "byVqs_cCgFgR"
      }
    },
    {
      "cell_type": "code",
      "source": [
        "X_train, X_test, Y_train, Y_test = train_test_split(X, Y, train_size=0.8,random_state=0)\n",
        "\n",
        "naive_bayes = MultinomialNB().fit(X_train, Y_train)\n",
        "\n",
        "logistic_regression = LogisticRegression(\n",
        "                                          random_state=0,\n",
        "                                          solver='liblinear', \n",
        "                                          penalty='l1',\n",
        "                                          C = parameters['lambda']\n",
        "                                          ).fit(X_train, Y_train)\n",
        "\n",
        "decision_tree = DecisionTreeClassifier(\n",
        "                                        random_state=0,\n",
        "                                        ccp_alpha=parameters['alpha']\n",
        "                                        ).fit(X_train,Y_train)\n",
        "\n",
        "random_forest = RandomForestClassifier(\n",
        "                                        max_features=parameters['max_features'],\n",
        "                                        n_estimators = parameters['n_estimators'],\n",
        "                                        random_state=0\n",
        "                                        ).fit(X_train,Y_train)\n",
        "\n",
        "# predicting\n",
        "Y_pred = naive_bayes.predict(X_test)\n",
        "print(f'Naive Bayes')\n",
        "evaluate_pred(Y_test, Y_pred)\n",
        "\n",
        "Y_pred = logistic_regression.predict(X_test)  \n",
        "print(f'Logistic Regression')\n",
        "evaluate_pred(Y_test, Y_pred)\n",
        "\n",
        "Y_pred = decision_tree.predict(X_test)\n",
        "print(f'Decision tree')\n",
        "evaluate_pred(Y_test, Y_pred)\n",
        "\n",
        "Y_pred = random_forest.predict(X_test)\n",
        "print(f'Random Forest')\n",
        "evaluate_pred(Y_test, Y_pred)"
      ],
      "metadata": {
        "colab": {
          "base_uri": "https://localhost:8080/"
        },
        "id": "z2NexmOBgIu_",
        "outputId": "4a4f4056-44ef-47c4-f753-78e91f4f28f2"
      },
      "execution_count": null,
      "outputs": [
        {
          "output_type": "stream",
          "name": "stdout",
          "text": [
            "Naive Bayes\n",
            "Number of mislabeled points out of a total 160 points : 27\n",
            "acc:  0.83125\n",
            "precision:  0.9178082191780822\n",
            "recall:  0.7613636363636364\n",
            "F:  0.8322981366459626\n",
            "\n",
            "Logistic Regression\n",
            "Number of mislabeled points out of a total 160 points : 30\n",
            "acc:  0.8125\n",
            "precision:  0.8372093023255814\n",
            "recall:  0.8181818181818182\n",
            "F:  0.8275862068965518\n",
            "\n",
            "Decision tree\n",
            "Number of mislabeled points out of a total 160 points : 52\n",
            "acc:  0.675\n",
            "precision:  0.7727272727272727\n",
            "recall:  0.5795454545454546\n",
            "F:  0.6623376623376623\n",
            "\n",
            "Random Forest\n",
            "Number of mislabeled points out of a total 160 points : 28\n",
            "acc:  0.825\n",
            "precision:  0.8846153846153846\n",
            "recall:  0.7840909090909091\n",
            "F:  0.8313253012048192\n",
            "\n"
          ]
        }
      ]
    },
    {
      "cell_type": "markdown",
      "metadata": {
        "id": "GcxcHbuzcJ7d"
      },
      "source": [
        "# Test on fold5 to see final evaluation scores"
      ]
    },
    {
      "cell_type": "code",
      "metadata": {
        "id": "_UZUSnXIHtTQ"
      },
      "source": [
        "# Splitting into train and test after fold5\n",
        "'''\n",
        "We need to create 5x2 CV\n",
        "so 5 times 50% split\n",
        "'''\n",
        "res_NB = []\n",
        "res_LR = []\n",
        "res_DT = []\n",
        "res_RF = []\n",
        "for i in range (5):\n",
        "  X_train, X_test, Y_train, Y_test = train_test_split(X, Y, test_size=0.5, shuffle=True)\n",
        "\n",
        "  naive_bayes = MultinomialNB().fit(X_train, Y_train)\n",
        "\n",
        "  logistic_regression = LogisticRegression(\n",
        "                                          random_state=0,\n",
        "                                          solver='liblinear', \n",
        "                                          penalty='l1',\n",
        "                                          C = parameters['lambda']\n",
        "                                          ).fit(X_train, Y_train)\n",
        "\n",
        "  decision_tree = DecisionTreeClassifier(\n",
        "                                        random_state=0,\n",
        "                                        ccp_alpha=parameters['alpha']\n",
        "                                        ).fit(X_train,Y_train)\n",
        "\n",
        "  random_forest = RandomForestClassifier(\n",
        "                                        max_features=parameters['max_features'],\n",
        "                                        n_estimators = parameters['n_estimators'],\n",
        "                                        random_state=0\n",
        "                                        ).fit(X_train,Y_train)\n",
        "\n",
        "  Y_pred = naive_bayes.predict(X_test)\n",
        "  print(f'Naive Bayes')\n",
        "  res_NB.append(evaluate_pred(Y_test, Y_pred))\n",
        "\n",
        "  Y_pred = logistic_regression.predict(X_test)\n",
        "  print(Y_pred)\n",
        "  print(f'Logistic Regression')\n",
        "  res_LR.append(evaluate_pred(Y_test, Y_pred))\n",
        "\n",
        "  Y_pred = decision_tree.predict(X_test)\n",
        "  print(f'Decision tree')\n",
        "  res_DT.append(evaluate_pred(Y_test, Y_pred))\n",
        "\n",
        "  Y_pred = random_forest.predict(X_test)\n",
        "  print(f'Random Forest')\n",
        "  res_RF.append(evaluate_pred(Y_test, Y_pred))\n",
        "\n",
        "print(res_NB)\n",
        "print(res_LR)\n",
        "print(res_DT)\n",
        "print(res_RF)"
      ],
      "execution_count": null,
      "outputs": []
    }
  ]
}